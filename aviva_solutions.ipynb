{
 "cells": [
  {
   "cell_type": "code",
   "execution_count": 16,
   "metadata": {},
   "outputs": [],
   "source": [
    "# Importing Sqlite3 Module\n",
    "import sqlite3\n",
    "import pandas as pd\n",
    "\n",
    "from sklearn.feature_extraction.text import TfidfTransformer\n",
    "from sklearn.svm import LinearSVC\n",
    "from sklearn import metrics"
   ]
  },
  {
   "cell_type": "markdown",
   "metadata": {},
   "source": [
    "## Task 1"
   ]
  },
  {
   "cell_type": "code",
   "execution_count": 26,
   "metadata": {},
   "outputs": [
    {
     "name": "stdout",
     "output_type": "stream",
     "text": [
      "Connected to SQLite\n",
      "List of tables\n",
      "\n",
      "   id                                               text            forum  \\\n",
      "0   0  From article <1993Apr22.233001.13436@vax.oxfor...          sci.med   \n",
      "1   1  \\nIf the tire has a leak you should fix it. \\n...        rec.autos   \n",
      "2   2  \\n\\nOkay Mr. Dyer, we're properly impressed wi...          sci.med   \n",
      "3   3  I just bought a little gizmo that is supposed ...  sci.electronics   \n",
      "4   4  molecules has evolved from an esoteric academi...    comp.graphics   \n",
      "\n",
      "   forum_id partition  \n",
      "0         3     train  \n",
      "1         1      test  \n",
      "2         3     train  \n",
      "3         2     train  \n",
      "4         0     train  \n",
      "the sqlite connection is closed\n"
     ]
    }
   ],
   "source": [
    "try:\n",
    "\n",
    "    # Making a connection between sqlite3\n",
    "    # database and Python Program\n",
    "    sqliteConnection = sqlite3.connect('database.db')\n",
    "\n",
    "    # If sqlite3 makes a connection with python\n",
    "    # program then it will print \"Connected to SQLite\"\n",
    "    # Otherwise it will show errors\n",
    "    print(\"Connected to SQLite\")\n",
    "\n",
    "    # Getting all tables from sqlite_master\n",
    "    sql_query = \"\"\"SELECT post_id,\n",
    "                text,\n",
    "                topic,\n",
    "                forum_id,\n",
    "                case\n",
    "                    when (birth_year % 10) in (0, 1) then 'test'\n",
    "                    else 'train'\n",
    "                end as partition\n",
    "            from posts\n",
    "            left join subforums using (forum_id)\n",
    "            left join users using (user_id)\"\"\"\n",
    "\n",
    "    # Creating cursor object using connection object\n",
    "    cursor = sqliteConnection.cursor()\n",
    "\n",
    "    # executing our sql query\n",
    "    cursor.execute(sql_query)\n",
    "    print(\"List of tables\\n\")\n",
    "    \n",
    "    #Create dataframe from SQL table\n",
    "    complete_data = pd.DataFrame(cursor.fetchall(), columns = ['id', 'text', 'forum', 'forum_id', 'partition'])\n",
    "    print (complete_data.head())\n",
    "\n",
    "except sqlite3.Error as error:\n",
    "    print(\"Failed to execute the above query\", error)\n",
    "\n",
    "finally:\n",
    "\n",
    "    # Inside Finally Block, If connection is\n",
    "    # open, we need to close it\n",
    "    if sqliteConnection:\n",
    "\n",
    "        # using close() method, we will close\n",
    "        # the connection\n",
    "        sqliteConnection.close()\n",
    "\n",
    "        # After closing connection object, we\n",
    "        # will print \"the sqlite connection is\n",
    "        # closed\"\n",
    "        print(\"the sqlite connection is closed\")\n"
   ]
  },
  {
   "cell_type": "code",
   "execution_count": 32,
   "metadata": {},
   "outputs": [
    {
     "data": {
      "text/plain": [
       "(4924, 5)"
      ]
     },
     "execution_count": 32,
     "metadata": {},
     "output_type": "execute_result"
    }
   ],
   "source": [
    "complete_data.shape"
   ]
  },
  {
   "cell_type": "code",
   "execution_count": 33,
   "metadata": {},
   "outputs": [
    {
     "data": {
      "text/plain": [
       "id           0\n",
       "text         0\n",
       "forum        0\n",
       "forum_id     0\n",
       "partition    0\n",
       "dtype: int64"
      ]
     },
     "execution_count": 33,
     "metadata": {},
     "output_type": "execute_result"
    }
   ],
   "source": [
    "complete_data.isna().sum()"
   ]
  },
  {
   "cell_type": "markdown",
   "metadata": {},
   "source": [
    "## Task 2"
   ]
  },
  {
   "cell_type": "code",
   "execution_count": 28,
   "metadata": {},
   "outputs": [],
   "source": [
    "train_df = complete_data[complete_data['partition']=='train'] "
   ]
  },
  {
   "cell_type": "code",
   "execution_count": 29,
   "metadata": {},
   "outputs": [
    {
     "data": {
      "text/html": [
       "<div>\n",
       "<style scoped>\n",
       "    .dataframe tbody tr th:only-of-type {\n",
       "        vertical-align: middle;\n",
       "    }\n",
       "\n",
       "    .dataframe tbody tr th {\n",
       "        vertical-align: top;\n",
       "    }\n",
       "\n",
       "    .dataframe thead th {\n",
       "        text-align: right;\n",
       "    }\n",
       "</style>\n",
       "<table border=\"1\" class=\"dataframe\">\n",
       "  <thead>\n",
       "    <tr style=\"text-align: right;\">\n",
       "      <th></th>\n",
       "      <th>id</th>\n",
       "      <th>text</th>\n",
       "      <th>forum</th>\n",
       "      <th>forum_id</th>\n",
       "      <th>partition</th>\n",
       "    </tr>\n",
       "  </thead>\n",
       "  <tbody>\n",
       "    <tr>\n",
       "      <th>0</th>\n",
       "      <td>0</td>\n",
       "      <td>From article &lt;1993Apr22.233001.13436@vax.oxfor...</td>\n",
       "      <td>sci.med</td>\n",
       "      <td>3</td>\n",
       "      <td>train</td>\n",
       "    </tr>\n",
       "    <tr>\n",
       "      <th>2</th>\n",
       "      <td>2</td>\n",
       "      <td>\\n\\nOkay Mr. Dyer, we're properly impressed wi...</td>\n",
       "      <td>sci.med</td>\n",
       "      <td>3</td>\n",
       "      <td>train</td>\n",
       "    </tr>\n",
       "    <tr>\n",
       "      <th>3</th>\n",
       "      <td>3</td>\n",
       "      <td>I just bought a little gizmo that is supposed ...</td>\n",
       "      <td>sci.electronics</td>\n",
       "      <td>2</td>\n",
       "      <td>train</td>\n",
       "    </tr>\n",
       "    <tr>\n",
       "      <th>4</th>\n",
       "      <td>4</td>\n",
       "      <td>molecules has evolved from an esoteric academi...</td>\n",
       "      <td>comp.graphics</td>\n",
       "      <td>0</td>\n",
       "      <td>train</td>\n",
       "    </tr>\n",
       "    <tr>\n",
       "      <th>5</th>\n",
       "      <td>5</td>\n",
       "      <td>Anybody know where I can get Graphics Work Shop?</td>\n",
       "      <td>comp.graphics</td>\n",
       "      <td>0</td>\n",
       "      <td>train</td>\n",
       "    </tr>\n",
       "  </tbody>\n",
       "</table>\n",
       "</div>"
      ],
      "text/plain": [
       "   id                                               text            forum  \\\n",
       "0   0  From article <1993Apr22.233001.13436@vax.oxfor...          sci.med   \n",
       "2   2  \\n\\nOkay Mr. Dyer, we're properly impressed wi...          sci.med   \n",
       "3   3  I just bought a little gizmo that is supposed ...  sci.electronics   \n",
       "4   4  molecules has evolved from an esoteric academi...    comp.graphics   \n",
       "5   5   Anybody know where I can get Graphics Work Shop?    comp.graphics   \n",
       "\n",
       "   forum_id partition  \n",
       "0         3     train  \n",
       "2         3     train  \n",
       "3         2     train  \n",
       "4         0     train  \n",
       "5         0     train  "
      ]
     },
     "execution_count": 29,
     "metadata": {},
     "output_type": "execute_result"
    }
   ],
   "source": [
    "train_df.head()"
   ]
  },
  {
   "cell_type": "code",
   "execution_count": 246,
   "metadata": {},
   "outputs": [],
   "source": [
    "#Separating text and labels\n",
    "train_x = train_df['text']\n",
    "train_y = train_df['forum_id']"
   ]
  },
  {
   "cell_type": "code",
   "execution_count": 247,
   "metadata": {},
   "outputs": [],
   "source": [
    "#Separating the data into validation dataset. For sake of interpretability we will call this as Validation dataset instead\n",
    "# of test\n",
    "val_df = complete_data[complete_data['partition']=='test'] "
   ]
  },
  {
   "cell_type": "code",
   "execution_count": 248,
   "metadata": {},
   "outputs": [
    {
     "data": {
      "text/html": [
       "<div>\n",
       "<style scoped>\n",
       "    .dataframe tbody tr th:only-of-type {\n",
       "        vertical-align: middle;\n",
       "    }\n",
       "\n",
       "    .dataframe tbody tr th {\n",
       "        vertical-align: top;\n",
       "    }\n",
       "\n",
       "    .dataframe thead th {\n",
       "        text-align: right;\n",
       "    }\n",
       "</style>\n",
       "<table border=\"1\" class=\"dataframe\">\n",
       "  <thead>\n",
       "    <tr style=\"text-align: right;\">\n",
       "      <th></th>\n",
       "      <th>id</th>\n",
       "      <th>text</th>\n",
       "      <th>forum</th>\n",
       "      <th>forum_id</th>\n",
       "      <th>partition</th>\n",
       "    </tr>\n",
       "  </thead>\n",
       "  <tbody>\n",
       "    <tr>\n",
       "      <th>1</th>\n",
       "      <td>1</td>\n",
       "      <td>\\nIf the tire has a leak you should fix it. \\n...</td>\n",
       "      <td>rec.autos</td>\n",
       "      <td>1</td>\n",
       "      <td>test</td>\n",
       "    </tr>\n",
       "    <tr>\n",
       "      <th>7</th>\n",
       "      <td>7</td>\n",
       "      <td>\\n   As for advertising -- sure, why not?  A N...</td>\n",
       "      <td>sci.space</td>\n",
       "      <td>4</td>\n",
       "      <td>test</td>\n",
       "    </tr>\n",
       "    <tr>\n",
       "      <th>20</th>\n",
       "      <td>20</td>\n",
       "      <td>Does anyone have any Russian Contacts (Space o...</td>\n",
       "      <td>sci.space</td>\n",
       "      <td>4</td>\n",
       "      <td>test</td>\n",
       "    </tr>\n",
       "    <tr>\n",
       "      <th>22</th>\n",
       "      <td>22</td>\n",
       "      <td>Sorry, _perijoves_...I'm not used to talking t...</td>\n",
       "      <td>sci.space</td>\n",
       "      <td>4</td>\n",
       "      <td>test</td>\n",
       "    </tr>\n",
       "    <tr>\n",
       "      <th>24</th>\n",
       "      <td>24</td>\n",
       "      <td>\\n\\tI am puzzled by the term \"concept.\" Drag f...</td>\n",
       "      <td>sci.space</td>\n",
       "      <td>4</td>\n",
       "      <td>test</td>\n",
       "    </tr>\n",
       "  </tbody>\n",
       "</table>\n",
       "</div>"
      ],
      "text/plain": [
       "    id                                               text      forum  \\\n",
       "1    1  \\nIf the tire has a leak you should fix it. \\n...  rec.autos   \n",
       "7    7  \\n   As for advertising -- sure, why not?  A N...  sci.space   \n",
       "20  20  Does anyone have any Russian Contacts (Space o...  sci.space   \n",
       "22  22  Sorry, _perijoves_...I'm not used to talking t...  sci.space   \n",
       "24  24  \\n\\tI am puzzled by the term \"concept.\" Drag f...  sci.space   \n",
       "\n",
       "    forum_id partition  \n",
       "1          1      test  \n",
       "7          4      test  \n",
       "20         4      test  \n",
       "22         4      test  \n",
       "24         4      test  "
      ]
     },
     "execution_count": 248,
     "metadata": {},
     "output_type": "execute_result"
    }
   ],
   "source": [
    "val_df.head()"
   ]
  },
  {
   "cell_type": "code",
   "execution_count": 249,
   "metadata": {},
   "outputs": [],
   "source": [
    "#Separating text and labels\n",
    "val_x = val_df['text']\n",
    "val_y = val_df['forum_id']"
   ]
  },
  {
   "cell_type": "code",
   "execution_count": 250,
   "metadata": {},
   "outputs": [],
   "source": [
    "# Initialize Tf-Idf Vectorizer\n",
    "vectorizer = TfidfVectorizer(sublinear_tf=True, max_df=0.5, stop_words='english')"
   ]
  },
  {
   "cell_type": "code",
   "execution_count": 251,
   "metadata": {},
   "outputs": [
    {
     "name": "stdout",
     "output_type": "stream",
     "text": [
      "Extracting features from the train data using the same vectorizer\n",
      "Extracting features from the validation data using the same vectorizer\n"
     ]
    }
   ],
   "source": [
    "#Vectorize text and extract features\n",
    "print(\"Extracting features from the train data using the same vectorizer\")\n",
    "X_train = vectorizer.fit_transform(train_x)\n",
    "print(\"Extracting features from the validation data using the same vectorizer\")\n",
    "X_val = vectorizer.transform(val_x)"
   ]
  },
  {
   "cell_type": "code",
   "execution_count": 253,
   "metadata": {},
   "outputs": [],
   "source": [
    "#Linear Support Vector for Classification\n",
    "clf = LinearSVC()"
   ]
  },
  {
   "cell_type": "code",
   "execution_count": 254,
   "metadata": {},
   "outputs": [
    {
     "data": {
      "text/plain": [
       "LinearSVC()"
      ]
     },
     "execution_count": 254,
     "metadata": {},
     "output_type": "execute_result"
    }
   ],
   "source": [
    "clf.fit(X_train, train_y)"
   ]
  },
  {
   "cell_type": "markdown",
   "metadata": {},
   "source": [
    "## Task 3"
   ]
  },
  {
   "cell_type": "code",
   "execution_count": 258,
   "metadata": {},
   "outputs": [
    {
     "name": "stdout",
     "output_type": "stream",
     "text": [
      "accuracy:   0.887\n"
     ]
    }
   ],
   "source": [
    "pred = clf.predict(X_val)\n",
    "score = metrics.accuracy_score(val_y, pred)\n",
    "print(\"accuracy:   %0.3f\" % score)"
   ]
  },
  {
   "cell_type": "code",
   "execution_count": 259,
   "metadata": {},
   "outputs": [],
   "source": [
    "target_names = ['0','1','2','3','4']"
   ]
  },
  {
   "cell_type": "code",
   "execution_count": 260,
   "metadata": {},
   "outputs": [
    {
     "name": "stdout",
     "output_type": "stream",
     "text": [
      "classification report:\n",
      "              precision    recall  f1-score   support\n",
      "\n",
      "           0       0.92      0.91      0.91       180\n",
      "           1       0.82      0.91      0.86       199\n",
      "           2       0.87      0.86      0.86       210\n",
      "           3       0.94      0.90      0.92       213\n",
      "           4       0.91      0.87      0.89       195\n",
      "\n",
      "    accuracy                           0.89       997\n",
      "   macro avg       0.89      0.89      0.89       997\n",
      "weighted avg       0.89      0.89      0.89       997\n",
      "\n"
     ]
    }
   ],
   "source": [
    "print(\"classification report:\")\n",
    "print(metrics.classification_report(val_y, pred, target_names=target_names))"
   ]
  },
  {
   "cell_type": "markdown",
   "metadata": {},
   "source": [
    "## Task 4\n",
    "\n",
    "I noticed that the json data has some unexpected data which was causing error while loading the data directly in the pandas dataframe. Hence I had to clean the data before using it further."
   ]
  },
  {
   "cell_type": "code",
   "execution_count": 237,
   "metadata": {},
   "outputs": [],
   "source": [
    "import json\n",
    "import ast\n",
    "ast.literal_eval\n",
    "with open('new_posts.json') as datafile:\n",
    "    data = datafile.read()"
   ]
  },
  {
   "cell_type": "code",
   "execution_count": 238,
   "metadata": {},
   "outputs": [],
   "source": [
    "row_list = [row for row in data.split('\\n') if row != '']"
   ]
  },
  {
   "cell_type": "code",
   "execution_count": 261,
   "metadata": {},
   "outputs": [
    {
     "data": {
      "text/plain": [
       "'exit(1)'"
      ]
     },
     "execution_count": 261,
     "metadata": {},
     "output_type": "execute_result"
    }
   ],
   "source": [
    "#Unexpected text between the json data on row 2001\n",
    "row_list[2001]"
   ]
  },
  {
   "cell_type": "code",
   "execution_count": 241,
   "metadata": {},
   "outputs": [],
   "source": [
    "row_dict_list = []\n",
    "for index,row in enumerate(row_list):\n",
    "    try:\n",
    "        row_dict_list.append(json.loads(row))\n",
    "    except:\n",
    "        pass"
   ]
  },
  {
   "cell_type": "code",
   "execution_count": 242,
   "metadata": {},
   "outputs": [
    {
     "data": {
      "text/plain": [
       "4924"
      ]
     },
     "execution_count": 242,
     "metadata": {},
     "output_type": "execute_result"
    }
   ],
   "source": [
    "len(row_dict_list)"
   ]
  },
  {
   "cell_type": "code",
   "execution_count": 243,
   "metadata": {},
   "outputs": [],
   "source": [
    "#Converting the json data to pandas dataframe\n",
    "test_df = pd.DataFrame.from_dict(row_dict_list)"
   ]
  },
  {
   "cell_type": "code",
   "execution_count": 244,
   "metadata": {},
   "outputs": [
    {
     "data": {
      "text/html": [
       "<div>\n",
       "<style scoped>\n",
       "    .dataframe tbody tr th:only-of-type {\n",
       "        vertical-align: middle;\n",
       "    }\n",
       "\n",
       "    .dataframe tbody tr th {\n",
       "        vertical-align: top;\n",
       "    }\n",
       "\n",
       "    .dataframe thead th {\n",
       "        text-align: right;\n",
       "    }\n",
       "</style>\n",
       "<table border=\"1\" class=\"dataframe\">\n",
       "  <thead>\n",
       "    <tr style=\"text-align: right;\">\n",
       "      <th></th>\n",
       "      <th>post_id</th>\n",
       "      <th>topic</th>\n",
       "      <th>text</th>\n",
       "      <th>forum_id</th>\n",
       "    </tr>\n",
       "  </thead>\n",
       "  <tbody>\n",
       "    <tr>\n",
       "      <th>0</th>\n",
       "      <td>4923</td>\n",
       "      <td>sci.med</td>\n",
       "      <td>From article &lt;1993Apr22.233001.13436@vax.oxfor...</td>\n",
       "      <td>3</td>\n",
       "    </tr>\n",
       "    <tr>\n",
       "      <th>1</th>\n",
       "      <td>4924</td>\n",
       "      <td>sci.electronics</td>\n",
       "      <td>\\nIf the tire has a leak you should fix it. \\n...</td>\n",
       "      <td>2</td>\n",
       "    </tr>\n",
       "    <tr>\n",
       "      <th>2</th>\n",
       "      <td>4925</td>\n",
       "      <td>sci.med</td>\n",
       "      <td>\\n\\nOkay Mr. Dyer, we're properly impressed wi...</td>\n",
       "      <td>3</td>\n",
       "    </tr>\n",
       "    <tr>\n",
       "      <th>3</th>\n",
       "      <td>4926</td>\n",
       "      <td>sci.electronics</td>\n",
       "      <td>I just bought a little gizmo that is supposed ...</td>\n",
       "      <td>2</td>\n",
       "    </tr>\n",
       "    <tr>\n",
       "      <th>4</th>\n",
       "      <td>4927</td>\n",
       "      <td>comp.graphics</td>\n",
       "      <td>molecules has evolved from an esoteric academi...</td>\n",
       "      <td>0</td>\n",
       "    </tr>\n",
       "    <tr>\n",
       "      <th>...</th>\n",
       "      <td>...</td>\n",
       "      <td>...</td>\n",
       "      <td>...</td>\n",
       "      <td>...</td>\n",
       "    </tr>\n",
       "    <tr>\n",
       "      <th>4919</th>\n",
       "      <td>9842</td>\n",
       "      <td>sci.space</td>\n",
       "      <td>\\n\\nI was suggesting that the minority of prof...</td>\n",
       "      <td>4</td>\n",
       "    </tr>\n",
       "    <tr>\n",
       "      <th>4920</th>\n",
       "      <td>9843</td>\n",
       "      <td>sci.med</td>\n",
       "      <td>% mail newsserv@kiae.su\\nSubject:  PLEASE, HEL...</td>\n",
       "      <td>3</td>\n",
       "    </tr>\n",
       "    <tr>\n",
       "      <th>4921</th>\n",
       "      <td>9844</td>\n",
       "      <td>comp.graphics</td>\n",
       "      <td>\\nMine was beautiful for a year and a half.  T...</td>\n",
       "      <td>0</td>\n",
       "    </tr>\n",
       "    <tr>\n",
       "      <th>4922</th>\n",
       "      <td>9845</td>\n",
       "      <td>sci.med</td>\n",
       "      <td>\\n\\nAs a child i can remember picking up a cen...</td>\n",
       "      <td>3</td>\n",
       "    </tr>\n",
       "    <tr>\n",
       "      <th>4923</th>\n",
       "      <td>9846</td>\n",
       "      <td>sci.space</td>\n",
       "      <td>\\n\\n\\n\\nMy information shows that the last San...</td>\n",
       "      <td>4</td>\n",
       "    </tr>\n",
       "  </tbody>\n",
       "</table>\n",
       "<p>4924 rows × 4 columns</p>\n",
       "</div>"
      ],
      "text/plain": [
       "      post_id            topic  \\\n",
       "0        4923          sci.med   \n",
       "1        4924  sci.electronics   \n",
       "2        4925          sci.med   \n",
       "3        4926  sci.electronics   \n",
       "4        4927    comp.graphics   \n",
       "...       ...              ...   \n",
       "4919     9842        sci.space   \n",
       "4920     9843          sci.med   \n",
       "4921     9844    comp.graphics   \n",
       "4922     9845          sci.med   \n",
       "4923     9846        sci.space   \n",
       "\n",
       "                                                   text  forum_id  \n",
       "0     From article <1993Apr22.233001.13436@vax.oxfor...         3  \n",
       "1     \\nIf the tire has a leak you should fix it. \\n...         2  \n",
       "2     \\n\\nOkay Mr. Dyer, we're properly impressed wi...         3  \n",
       "3     I just bought a little gizmo that is supposed ...         2  \n",
       "4     molecules has evolved from an esoteric academi...         0  \n",
       "...                                                 ...       ...  \n",
       "4919  \\n\\nI was suggesting that the minority of prof...         4  \n",
       "4920  % mail newsserv@kiae.su\\nSubject:  PLEASE, HEL...         3  \n",
       "4921  \\nMine was beautiful for a year and a half.  T...         0  \n",
       "4922  \\n\\nAs a child i can remember picking up a cen...         3  \n",
       "4923  \\n\\n\\n\\nMy information shows that the last San...         4  \n",
       "\n",
       "[4924 rows x 4 columns]"
      ]
     },
     "execution_count": 244,
     "metadata": {},
     "output_type": "execute_result"
    }
   ],
   "source": [
    "test_df"
   ]
  },
  {
   "cell_type": "code",
   "execution_count": 263,
   "metadata": {},
   "outputs": [
    {
     "name": "stdout",
     "output_type": "stream",
     "text": [
      "Extracting features from the test data using the same vectorizer\n"
     ]
    }
   ],
   "source": [
    "#Vectorize text and extract features\n",
    "test_x = test_df['text']\n",
    "print(\"Extracting features from the test data using the same vectorizer\")\n",
    "X_test = vectorizer.transform(test_x)\n"
   ]
  },
  {
   "cell_type": "code",
   "execution_count": 264,
   "metadata": {},
   "outputs": [],
   "source": [
    "#Predict on test data\n",
    "final_pred = clf.predict(X_test)"
   ]
  },
  {
   "cell_type": "code",
   "execution_count": 265,
   "metadata": {},
   "outputs": [
    {
     "data": {
      "text/plain": [
       "array([3, 1, 3, ..., 0, 3, 4], dtype=int64)"
      ]
     },
     "execution_count": 265,
     "metadata": {},
     "output_type": "execute_result"
    }
   ],
   "source": [
    "final_pred"
   ]
  },
  {
   "cell_type": "code",
   "execution_count": 267,
   "metadata": {},
   "outputs": [],
   "source": [
    "test_df['predicted_forum_id'] = final_pred"
   ]
  },
  {
   "cell_type": "code",
   "execution_count": 268,
   "metadata": {},
   "outputs": [],
   "source": [
    "def check_forum(x):\n",
    "    if x['forum_id']!= x['predicted_forum_id']:\n",
    "        return x['predicted_forum_id']\n",
    "    else:\n",
    "        return None\n",
    "    "
   ]
  },
  {
   "cell_type": "code",
   "execution_count": 269,
   "metadata": {},
   "outputs": [],
   "source": [
    "test_df['reassign'] = test_df.apply(check_forum, axis=1)"
   ]
  },
  {
   "cell_type": "code",
   "execution_count": 270,
   "metadata": {},
   "outputs": [
    {
     "data": {
      "text/html": [
       "<div>\n",
       "<style scoped>\n",
       "    .dataframe tbody tr th:only-of-type {\n",
       "        vertical-align: middle;\n",
       "    }\n",
       "\n",
       "    .dataframe tbody tr th {\n",
       "        vertical-align: top;\n",
       "    }\n",
       "\n",
       "    .dataframe thead th {\n",
       "        text-align: right;\n",
       "    }\n",
       "</style>\n",
       "<table border=\"1\" class=\"dataframe\">\n",
       "  <thead>\n",
       "    <tr style=\"text-align: right;\">\n",
       "      <th></th>\n",
       "      <th>post_id</th>\n",
       "      <th>topic</th>\n",
       "      <th>text</th>\n",
       "      <th>forum_id</th>\n",
       "      <th>predicted_forum_id</th>\n",
       "      <th>reassign</th>\n",
       "    </tr>\n",
       "  </thead>\n",
       "  <tbody>\n",
       "    <tr>\n",
       "      <th>0</th>\n",
       "      <td>4923</td>\n",
       "      <td>sci.med</td>\n",
       "      <td>From article &lt;1993Apr22.233001.13436@vax.oxfor...</td>\n",
       "      <td>3</td>\n",
       "      <td>3</td>\n",
       "      <td>NaN</td>\n",
       "    </tr>\n",
       "    <tr>\n",
       "      <th>1</th>\n",
       "      <td>4924</td>\n",
       "      <td>sci.electronics</td>\n",
       "      <td>\\nIf the tire has a leak you should fix it. \\n...</td>\n",
       "      <td>2</td>\n",
       "      <td>1</td>\n",
       "      <td>1.0</td>\n",
       "    </tr>\n",
       "    <tr>\n",
       "      <th>2</th>\n",
       "      <td>4925</td>\n",
       "      <td>sci.med</td>\n",
       "      <td>\\n\\nOkay Mr. Dyer, we're properly impressed wi...</td>\n",
       "      <td>3</td>\n",
       "      <td>3</td>\n",
       "      <td>NaN</td>\n",
       "    </tr>\n",
       "    <tr>\n",
       "      <th>3</th>\n",
       "      <td>4926</td>\n",
       "      <td>sci.electronics</td>\n",
       "      <td>I just bought a little gizmo that is supposed ...</td>\n",
       "      <td>2</td>\n",
       "      <td>2</td>\n",
       "      <td>NaN</td>\n",
       "    </tr>\n",
       "    <tr>\n",
       "      <th>4</th>\n",
       "      <td>4927</td>\n",
       "      <td>comp.graphics</td>\n",
       "      <td>molecules has evolved from an esoteric academi...</td>\n",
       "      <td>0</td>\n",
       "      <td>0</td>\n",
       "      <td>NaN</td>\n",
       "    </tr>\n",
       "    <tr>\n",
       "      <th>...</th>\n",
       "      <td>...</td>\n",
       "      <td>...</td>\n",
       "      <td>...</td>\n",
       "      <td>...</td>\n",
       "      <td>...</td>\n",
       "      <td>...</td>\n",
       "    </tr>\n",
       "    <tr>\n",
       "      <th>4919</th>\n",
       "      <td>9842</td>\n",
       "      <td>sci.space</td>\n",
       "      <td>\\n\\nI was suggesting that the minority of prof...</td>\n",
       "      <td>4</td>\n",
       "      <td>4</td>\n",
       "      <td>NaN</td>\n",
       "    </tr>\n",
       "    <tr>\n",
       "      <th>4920</th>\n",
       "      <td>9843</td>\n",
       "      <td>sci.med</td>\n",
       "      <td>% mail newsserv@kiae.su\\nSubject:  PLEASE, HEL...</td>\n",
       "      <td>3</td>\n",
       "      <td>3</td>\n",
       "      <td>NaN</td>\n",
       "    </tr>\n",
       "    <tr>\n",
       "      <th>4921</th>\n",
       "      <td>9844</td>\n",
       "      <td>comp.graphics</td>\n",
       "      <td>\\nMine was beautiful for a year and a half.  T...</td>\n",
       "      <td>0</td>\n",
       "      <td>0</td>\n",
       "      <td>NaN</td>\n",
       "    </tr>\n",
       "    <tr>\n",
       "      <th>4922</th>\n",
       "      <td>9845</td>\n",
       "      <td>sci.med</td>\n",
       "      <td>\\n\\nAs a child i can remember picking up a cen...</td>\n",
       "      <td>3</td>\n",
       "      <td>3</td>\n",
       "      <td>NaN</td>\n",
       "    </tr>\n",
       "    <tr>\n",
       "      <th>4923</th>\n",
       "      <td>9846</td>\n",
       "      <td>sci.space</td>\n",
       "      <td>\\n\\n\\n\\nMy information shows that the last San...</td>\n",
       "      <td>4</td>\n",
       "      <td>4</td>\n",
       "      <td>NaN</td>\n",
       "    </tr>\n",
       "  </tbody>\n",
       "</table>\n",
       "<p>4924 rows × 6 columns</p>\n",
       "</div>"
      ],
      "text/plain": [
       "      post_id            topic  \\\n",
       "0        4923          sci.med   \n",
       "1        4924  sci.electronics   \n",
       "2        4925          sci.med   \n",
       "3        4926  sci.electronics   \n",
       "4        4927    comp.graphics   \n",
       "...       ...              ...   \n",
       "4919     9842        sci.space   \n",
       "4920     9843          sci.med   \n",
       "4921     9844    comp.graphics   \n",
       "4922     9845          sci.med   \n",
       "4923     9846        sci.space   \n",
       "\n",
       "                                                   text  forum_id  \\\n",
       "0     From article <1993Apr22.233001.13436@vax.oxfor...         3   \n",
       "1     \\nIf the tire has a leak you should fix it. \\n...         2   \n",
       "2     \\n\\nOkay Mr. Dyer, we're properly impressed wi...         3   \n",
       "3     I just bought a little gizmo that is supposed ...         2   \n",
       "4     molecules has evolved from an esoteric academi...         0   \n",
       "...                                                 ...       ...   \n",
       "4919  \\n\\nI was suggesting that the minority of prof...         4   \n",
       "4920  % mail newsserv@kiae.su\\nSubject:  PLEASE, HEL...         3   \n",
       "4921  \\nMine was beautiful for a year and a half.  T...         0   \n",
       "4922  \\n\\nAs a child i can remember picking up a cen...         3   \n",
       "4923  \\n\\n\\n\\nMy information shows that the last San...         4   \n",
       "\n",
       "      predicted_forum_id  reassign  \n",
       "0                      3       NaN  \n",
       "1                      1       1.0  \n",
       "2                      3       NaN  \n",
       "3                      2       NaN  \n",
       "4                      0       NaN  \n",
       "...                  ...       ...  \n",
       "4919                   4       NaN  \n",
       "4920                   3       NaN  \n",
       "4921                   0       NaN  \n",
       "4922                   3       NaN  \n",
       "4923                   4       NaN  \n",
       "\n",
       "[4924 rows x 6 columns]"
      ]
     },
     "execution_count": 270,
     "metadata": {},
     "output_type": "execute_result"
    }
   ],
   "source": [
    "test_df"
   ]
  },
  {
   "cell_type": "code",
   "execution_count": 233,
   "metadata": {},
   "outputs": [
    {
     "data": {
      "text/plain": [
       "post_id                 int64\n",
       "topic                  object\n",
       "text                   object\n",
       "forum_id                int64\n",
       "predicted_forum_id      int64\n",
       "reassign              float64\n",
       "dtype: object"
      ]
     },
     "execution_count": 233,
     "metadata": {},
     "output_type": "execute_result"
    }
   ],
   "source": [
    "test_df.dtypes"
   ]
  },
  {
   "cell_type": "code",
   "execution_count": 271,
   "metadata": {},
   "outputs": [],
   "source": [
    "test_df.to_csv('result.csv')"
   ]
  },
  {
   "cell_type": "code",
   "execution_count": null,
   "metadata": {},
   "outputs": [],
   "source": []
  }
 ],
 "metadata": {
  "kernelspec": {
   "display_name": "Python 3 (ipykernel)",
   "language": "python",
   "name": "python3"
  },
  "language_info": {
   "codemirror_mode": {
    "name": "ipython",
    "version": 3
   },
   "file_extension": ".py",
   "mimetype": "text/x-python",
   "name": "python",
   "nbconvert_exporter": "python",
   "pygments_lexer": "ipython3",
   "version": "3.7.3"
  }
 },
 "nbformat": 4,
 "nbformat_minor": 2
}
